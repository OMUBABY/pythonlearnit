{
 "cells": [
  {
   "cell_type": "markdown",
   "id": "79723877",
   "metadata": {},
   "source": [
    "# Multi-line printing techniques.\n"
   ]
  },
  {
   "cell_type": "code",
   "execution_count": 1,
   "id": "651d46b9",
   "metadata": {},
   "outputs": [
    {
     "name": "stdout",
     "output_type": "stream",
     "text": [
      "Hello\n",
      "Welcome to our multi-line\n",
      "printing adventure!\n"
     ]
    }
   ],
   "source": [
    "print(\"Hello\")\n",
    "print(\"Welcome to our multi-line\")\n",
    "print(\"printing adventure!\")"
   ]
  },
  {
   "cell_type": "code",
   "execution_count": 2,
   "id": "4b8ed38a",
   "metadata": {},
   "outputs": [
    {
     "name": "stdout",
     "output_type": "stream",
     "text": [
      "Line 1\n",
      "Line 2\n",
      "Line 3\n"
     ]
    }
   ],
   "source": [
    "print(\"Line 1\\nLine 2\\nLine 3\")"
   ]
  },
  {
   "cell_type": "code",
   "execution_count": 4,
   "id": "43d2fcb9",
   "metadata": {},
   "outputs": [
    {
     "name": "stdout",
     "output_type": "stream",
     "text": [
      "This is Line 1.\n",
      "This is Line 2.\n",
      "This is Line 3.\n"
     ]
    }
   ],
   "source": [
    "print(\"\"\"This is Line 1.\n",
    "This is Line 2.\n",
    "This is Line 3.\"\"\")\n"
   ]
  },
  {
   "cell_type": "code",
   "execution_count": 6,
   "id": "0524f481",
   "metadata": {},
   "outputs": [
    {
     "name": "stdout",
     "output_type": "stream",
     "text": [
      "First Line\n",
      "Second Line\n",
      "Third Line\n",
      "Fourth Line\n",
      "Fifth Line\n",
      "Sixth Line\n",
      "Seventh Line\n"
     ]
    }
   ],
   "source": [
    "print(\"First Line\\nSecond Line\")\n",
    "print('''Third Line\n",
    "Fourth Line\n",
    "Fifth Line\n",
    "Sixth Line\n",
    "Seventh Line''')"
   ]
  },
  {
   "cell_type": "code",
   "execution_count": 15,
   "id": "20445f0e",
   "metadata": {},
   "outputs": [
    {
     "name": "stdout",
     "output_type": "stream",
     "text": [
      "Escape Character:\n",
      "\\n - Start a new line\n",
      "\\t - Adds a tab\n",
      "\\\\ - Prints a backslash\n",
      "\\\" - Prints a double quote\n",
      "\\' - Prints a single quote\n",
      "\n",
      "New Line here\n",
      "\n",
      "New Line 1\n",
      "\n",
      "New Line 3\n",
      "\n",
      "Line1\n",
      "\n",
      "Line3\n"
     ]
    }
   ],
   "source": [
    "print(\"\"\"Escape Character:\n",
    "\\\\n - Start a new line\n",
    "\\\\t - Adds a tab\n",
    "\\\\\\\\ - Prints a backslash\n",
    "\\\\\" - Prints a double quote\n",
    "\\\\' - Prints a single quote\"\"\")\n",
    "print()\n",
    "print(\"New Line here\")\n",
    "print()\n",
    "print(\"New Line 1\\n\\nNew Line 3\")\n",
    "print()\n",
    "print(\"\"\"Line1\n",
    "\n",
    "Line3\"\"\")\n",
    "\n"
   ]
  }
 ],
 "metadata": {
  "kernelspec": {
   "display_name": "Python 3",
   "language": "python",
   "name": "python3"
  },
  "language_info": {
   "codemirror_mode": {
    "name": "ipython",
    "version": 3
   },
   "file_extension": ".py",
   "mimetype": "text/x-python",
   "name": "python",
   "nbconvert_exporter": "python",
   "pygments_lexer": "ipython3",
   "version": "3.13.3"
  }
 },
 "nbformat": 4,
 "nbformat_minor": 5
}
