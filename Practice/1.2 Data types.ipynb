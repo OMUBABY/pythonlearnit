{
 "cells": [
  {
   "cell_type": "code",
   "execution_count": 28,
   "id": "57406255",
   "metadata": {},
   "outputs": [
    {
     "name": "stdout",
     "output_type": "stream",
     "text": [
      "Hello, World!\n"
     ]
    }
   ],
   "source": [
    "# this is python\n",
    "print(\"Hello, World!\")"
   ]
  },
  {
   "cell_type": "code",
   "execution_count": 29,
   "id": "71726786",
   "metadata": {},
   "outputs": [],
   "source": [
    "# Writing Comments\n",
    "# this is a comment"
   ]
  },
  {
   "cell_type": "code",
   "execution_count": 30,
   "id": "339cfa65",
   "metadata": {},
   "outputs": [
    {
     "name": "stdout",
     "output_type": "stream",
     "text": [
      "Hello\n"
     ]
    }
   ],
   "source": [
    "'''\n",
    "This is a multi-line comment\n",
    "'''\n",
    "print(\"Hello\") # this is also a comment"
   ]
  },
  {
   "cell_type": "code",
   "execution_count": 31,
   "id": "3f482a1a",
   "metadata": {
    "tags": [
     "parameters"
    ]
   },
   "outputs": [
    {
     "data": {
      "text/plain": [
       "'\\nData types example\\nData Types Sample Value Description\\nInteger     5           Whole numbers\\nFloat       5.7         Decimal numbers\\nBoolean     True        True or False values\\nstring      \"hello\"     Characters within quotes\\n'"
      ]
     },
     "execution_count": 31,
     "metadata": {},
     "output_type": "execute_result"
    }
   ],
   "source": [
    "# What are Data types\n",
    "\n",
    "'''\n",
    "Data types example\n",
    "Data Types Sample Value Description\n",
    "Integer     5           Whole numbers\n",
    "Float       5.7         Decimal numbers\n",
    "Boolean     True        True or False values\n",
    "string      \"hello\"     Characters within quotes\n",
    "'''"
   ]
  },
  {
   "cell_type": "markdown",
   "id": "15441df5",
   "metadata": {},
   "source": [
    "# The Print Statement"
   ]
  },
  {
   "cell_type": "code",
   "execution_count": 32,
   "id": "8a61b631",
   "metadata": {},
   "outputs": [
    {
     "name": "stdout",
     "output_type": "stream",
     "text": [
      "2\n",
      "10\n"
     ]
    }
   ],
   "source": [
    "# the following are all integers\n",
    "print(2)\n",
    "print(10)"
   ]
  },
  {
   "cell_type": "code",
   "execution_count": 33,
   "id": "9d01ed49",
   "metadata": {},
   "outputs": [
    {
     "name": "stdout",
     "output_type": "stream",
     "text": [
      "10.953\n",
      "8.0\n"
     ]
    }
   ],
   "source": [
    "# the following are all floats\n",
    "print(10.953)\n",
    "print(8.0) # even this number is a float\n"
   ]
  },
  {
   "cell_type": "code",
   "execution_count": 34,
   "id": "2a2baf79",
   "metadata": {},
   "outputs": [
    {
     "name": "stdout",
     "output_type": "stream",
     "text": [
      "True\n",
      "False\n"
     ]
    }
   ],
   "source": [
    "# the following are booleans\n",
    "print(True)\n",
    "print(False)"
   ]
  },
  {
   "cell_type": "code",
   "execution_count": 35,
   "id": "71340828",
   "metadata": {},
   "outputs": [
    {
     "name": "stdout",
     "output_type": "stream",
     "text": [
      " \n",
      "There's a snake in my boot!\n"
     ]
    }
   ],
   "source": [
    "# the following are strings\n",
    "print(\" \")\n",
    "print(\"There's a snake in my boot!\")"
   ]
  },
  {
   "cell_type": "code",
   "execution_count": 36,
   "id": "a1d16964",
   "metadata": {},
   "outputs": [
    {
     "data": {
      "text/plain": [
       "float"
      ]
     },
     "execution_count": 36,
     "metadata": {},
     "output_type": "execute_result"
    }
   ],
   "source": [
    "type(3.14)\n"
   ]
  },
  {
   "cell_type": "code",
   "execution_count": 37,
   "id": "2babf540",
   "metadata": {},
   "outputs": [
    {
     "data": {
      "text/plain": [
       "str"
      ]
     },
     "execution_count": 37,
     "metadata": {},
     "output_type": "execute_result"
    }
   ],
   "source": [
    "type(\"Hello World!!\")\n"
   ]
  },
  {
   "cell_type": "code",
   "execution_count": 38,
   "id": "619a7a46",
   "metadata": {},
   "outputs": [
    {
     "data": {
      "text/plain": [
       "int"
      ]
     },
     "execution_count": 38,
     "metadata": {},
     "output_type": "execute_result"
    }
   ],
   "source": [
    "type(501)"
   ]
  },
  {
   "cell_type": "code",
   "execution_count": 39,
   "id": "5ab6f128",
   "metadata": {},
   "outputs": [
    {
     "data": {
      "text/plain": [
       "float"
      ]
     },
     "execution_count": 39,
     "metadata": {},
     "output_type": "execute_result"
    }
   ],
   "source": [
    "type(8.33333)"
   ]
  },
  {
   "cell_type": "code",
   "execution_count": 40,
   "id": "88b3ed6c",
   "metadata": {},
   "outputs": [
    {
     "data": {
      "text/plain": [
       "str"
      ]
     },
     "execution_count": 40,
     "metadata": {},
     "output_type": "execute_result"
    }
   ],
   "source": [
    "student_name = \"Colette Browning\"\n",
    "type(student_name)"
   ]
  },
  {
   "cell_type": "code",
   "execution_count": 41,
   "id": "7ac1b7e1",
   "metadata": {},
   "outputs": [
    {
     "data": {
      "text/plain": [
       "int"
      ]
     },
     "execution_count": 41,
     "metadata": {},
     "output_type": "execute_result"
    }
   ],
   "source": [
    "type(16)"
   ]
  },
  {
   "cell_type": "code",
   "execution_count": 42,
   "id": "8391758b",
   "metadata": {},
   "outputs": [
    {
     "data": {
      "text/plain": [
       "str"
      ]
     },
     "execution_count": 42,
     "metadata": {},
     "output_type": "execute_result"
    }
   ],
   "source": [
    "type(\"double quotes\")"
   ]
  },
  {
   "cell_type": "code",
   "execution_count": 43,
   "id": "414cb223",
   "metadata": {},
   "outputs": [
    {
     "data": {
      "text/plain": [
       "str"
      ]
     },
     "execution_count": 43,
     "metadata": {},
     "output_type": "execute_result"
    }
   ],
   "source": [
    "type('single quotes')"
   ]
  },
  {
   "cell_type": "code",
   "execution_count": 44,
   "id": "a6121260",
   "metadata": {},
   "outputs": [
    {
     "data": {
      "text/plain": [
       "str"
      ]
     },
     "execution_count": 44,
     "metadata": {},
     "output_type": "execute_result"
    }
   ],
   "source": [
    "type(\"double quotes\")"
   ]
  },
  {
   "cell_type": "code",
   "execution_count": 45,
   "id": "d9cbce46",
   "metadata": {},
   "outputs": [
    {
     "data": {
      "text/plain": [
       "str"
      ]
     },
     "execution_count": 45,
     "metadata": {},
     "output_type": "execute_result"
    }
   ],
   "source": [
    "type(\"12\")"
   ]
  },
  {
   "cell_type": "code",
   "execution_count": 46,
   "id": "5d82addd",
   "metadata": {},
   "outputs": [
    {
     "data": {
      "text/plain": [
       "int"
      ]
     },
     "execution_count": 46,
     "metadata": {},
     "output_type": "execute_result"
    }
   ],
   "source": [
    "type(12)"
   ]
  },
  {
   "cell_type": "code",
   "execution_count": 47,
   "id": "64defc95",
   "metadata": {},
   "outputs": [
    {
     "data": {
      "text/plain": [
       "int"
      ]
     },
     "execution_count": 47,
     "metadata": {},
     "output_type": "execute_result"
    }
   ],
   "source": [
    "type(-12)"
   ]
  },
  {
   "cell_type": "code",
   "execution_count": 48,
   "id": "075cbfc5",
   "metadata": {},
   "outputs": [
    {
     "data": {
      "text/plain": [
       "float"
      ]
     },
     "execution_count": 48,
     "metadata": {},
     "output_type": "execute_result"
    }
   ],
   "source": [
    "type(12.0)"
   ]
  },
  {
   "cell_type": "code",
   "execution_count": 49,
   "id": "27913c7e",
   "metadata": {},
   "outputs": [
    {
     "data": {
      "text/plain": [
       "float"
      ]
     },
     "execution_count": 49,
     "metadata": {},
     "output_type": "execute_result"
    }
   ],
   "source": [
    "type(1.55)"
   ]
  },
  {
   "cell_type": "code",
   "execution_count": 51,
   "id": "2df75628",
   "metadata": {},
   "outputs": [
    {
     "data": {
      "text/plain": [
       "str"
      ]
     },
     "execution_count": 51,
     "metadata": {},
     "output_type": "execute_result"
    }
   ],
   "source": [
    "type('just for fun')"
   ]
  },
  {
   "cell_type": "code",
   "execution_count": 52,
   "id": "ad26bf31",
   "metadata": {},
   "outputs": [
    {
     "data": {
      "text/plain": [
       "bool"
      ]
     },
     "execution_count": 52,
     "metadata": {},
     "output_type": "execute_result"
    }
   ],
   "source": [
    "type(True)"
   ]
  },
  {
   "cell_type": "code",
   "execution_count": 53,
   "id": "41121687",
   "metadata": {},
   "outputs": [
    {
     "data": {
      "text/plain": [
       "bool"
      ]
     },
     "execution_count": 53,
     "metadata": {},
     "output_type": "execute_result"
    }
   ],
   "source": [
    "type(False)"
   ]
  },
  {
   "cell_type": "code",
   "execution_count": 54,
   "id": "168eefae",
   "metadata": {},
   "outputs": [
    {
     "name": "stdout",
     "output_type": "stream",
     "text": [
      "420\n"
     ]
    }
   ],
   "source": [
    "# printing an interger with python\n",
    "print(420)"
   ]
  },
  {
   "cell_type": "code",
   "execution_count": 55,
   "id": "83b39f82",
   "metadata": {},
   "outputs": [
    {
     "name": "stdout",
     "output_type": "stream",
     "text": [
      "2020\n"
     ]
    }
   ],
   "source": [
    "# printing a string made of integer (number) characters with python\n",
    "print(\"2020\")"
   ]
  },
  {
   "cell_type": "markdown",
   "id": "7648a76b",
   "metadata": {},
   "source": [
    "# Variables\n",
    "\n",
    "*item_price\n",
    "\n",
    "*student_name"
   ]
  },
  {
   "cell_type": "code",
   "execution_count": 57,
   "id": "606efe41",
   "metadata": {},
   "outputs": [
    {
     "name": "stdout",
     "output_type": "stream",
     "text": [
      "I am a string\n"
     ]
    }
   ],
   "source": [
    "current_msg = \"I am a string\"\n",
    "print(current_msg)"
   ]
  },
  {
   "cell_type": "code",
   "execution_count": 58,
   "id": "ed2bd13f",
   "metadata": {},
   "outputs": [
    {
     "name": "stdout",
     "output_type": "stream",
     "text": [
      "new current message\n"
     ]
    }
   ],
   "source": [
    "current_msg = \"new current message\"\n",
    "print(current_msg)\n"
   ]
  },
  {
   "cell_type": "code",
   "execution_count": 59,
   "id": "b072c963",
   "metadata": {},
   "outputs": [
    {
     "name": "stdout",
     "output_type": "stream",
     "text": [
      "Alice\n"
     ]
    }
   ],
   "source": [
    "student_name = \"Alice\"\n",
    "print(student_name)"
   ]
  },
  {
   "cell_type": "code",
   "execution_count": 60,
   "id": "d1a0026e",
   "metadata": {},
   "outputs": [
    {
     "name": "stdout",
     "output_type": "stream",
     "text": [
      "Joan\n"
     ]
    }
   ],
   "source": [
    "student_name = \"Joan\"\n",
    "print(student_name)\n"
   ]
  },
  {
   "cell_type": "code",
   "execution_count": 61,
   "id": "9e951167",
   "metadata": {},
   "outputs": [
    {
     "name": "stdout",
     "output_type": "stream",
     "text": [
      "Joan Dias\n",
      "22\n",
      "Joana\n"
     ]
    }
   ],
   "source": [
    "name = \"Joan Dias\"\n",
    "print(name)\n",
    "test_value = 22\n",
    "print(test_value)\n",
    "test_value = \"Joana\"\n",
    "print(test_value)"
   ]
  }
 ],
 "metadata": {
  "kernelspec": {
   "display_name": "Python 3",
   "language": "python",
   "name": "python3"
  },
  "language_info": {
   "codemirror_mode": {
    "name": "ipython",
    "version": 3
   },
   "file_extension": ".py",
   "mimetype": "text/x-python",
   "name": "python",
   "nbconvert_exporter": "python",
   "pygments_lexer": "ipython3",
   "version": "3.13.3"
  }
 },
 "nbformat": 4,
 "nbformat_minor": 5
}
