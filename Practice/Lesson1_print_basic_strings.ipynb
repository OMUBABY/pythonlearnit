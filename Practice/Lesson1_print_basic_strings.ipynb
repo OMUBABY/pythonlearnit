{
 "cells": [
  {
   "cell_type": "markdown",
   "id": "dd6f5c9e",
   "metadata": {},
   "source": [
    "*1. Print a short story using multiple lines.*\n"
   ]
  },
  {
   "cell_type": "code",
   "execution_count": 6,
   "id": "e397739b",
   "metadata": {},
   "outputs": [
    {
     "name": "stdout",
     "output_type": "stream",
     "text": [
      "I love my new phone.\n",
      "It's so fast and has a large storage space.\n",
      "I love bread.\n"
     ]
    }
   ],
   "source": [
    "\n",
    "print(\"I love my new phone.\")\n",
    "print(\"It's so fast and has a large storage space.\")\n",
    "print(\"I love bread.\")"
   ]
  },
  {
   "cell_type": "code",
   "execution_count": 14,
   "id": "80215ad9",
   "metadata": {},
   "outputs": [
    {
     "name": "stdout",
     "output_type": "stream",
     "text": [
      "The Story of Python\n",
      "-----------------\n",
      "Python was created by Guido van Rossum.\n",
      "It was first released in 1991.\n",
      "\n",
      "Python versions:\n",
      "Python 1.0 - 1994\n",
      "Python 2.0 - 2000\n",
      "Python 3.0 - 2008\n"
     ]
    }
   ],
   "source": [
    "print(\"The Story of Python\")\n",
    "print(\"-----------------\")\n",
    "\n",
    "print(\"Python was created by Guido van Rossum.\")\n",
    "print(\"It was first released in 1991.\")\n",
    "\n",
    "print(\"\\nPython versions:\")\n",
    "print(\"Python 1.0 - 1994\")\n",
    "print(\"Python 2.0 - 2000\")\n",
    "print(\"Python 3.0 - 2008\")"
   ]
  },
  {
   "cell_type": "markdown",
   "id": "a7ac4043",
   "metadata": {},
   "source": [
    "\n",
    "*2. Create a string that includes both single and double quotes.*"
   ]
  },
  {
   "cell_type": "code",
   "execution_count": 8,
   "id": "1d6bf82f",
   "metadata": {},
   "outputs": [
    {
     "name": "stdout",
     "output_type": "stream",
     "text": [
      "I asked for help, he replied 'I'm busy at the moment.'\n"
     ]
    }
   ],
   "source": [
    "\n",
    "print(\"I asked for help, he replied 'I'm busy at the moment.'\")\n"
   ]
  },
  {
   "cell_type": "code",
   "execution_count": 17,
   "id": "e67c9c4d",
   "metadata": {},
   "outputs": [
    {
     "name": "stdout",
     "output_type": "stream",
     "text": [
      "Guido van Rossum once said, \"Python is an experiment in how much freedom programmers need.\n",
      "Too much freedom and nobody can read another's code; too little and expressivness is endangered\"\n"
     ]
    }
   ],
   "source": [
    "print('Guido van Rossum once said, \"Python is an experiment in how much freedom programmers need.\\nToo much freedom and nobody can read another\\'s code; too little and expressivness is endangered\"')\n"
   ]
  },
  {
   "cell_type": "markdown",
   "id": "390b6575",
   "metadata": {},
   "source": [
    "\n",
    "*3. Use escape characters to create a formatted list.*\n"
   ]
  },
  {
   "cell_type": "code",
   "execution_count": 3,
   "id": "1a730e78",
   "metadata": {},
   "outputs": [
    {
     "name": "stdout",
     "output_type": "stream",
     "text": [
      "I love my new phone.\n",
      "It's so fast and has a storage space.\n",
      "I love bread\n"
     ]
    }
   ],
   "source": [
    "\n",
    "print(\"I love my new phone.\\nIt\\'s so fast and has a storage space.\\nI love bread\")"
   ]
  },
  {
   "cell_type": "code",
   "execution_count": 18,
   "id": "8f178936",
   "metadata": {},
   "outputs": [
    {
     "name": "stdout",
     "output_type": "stream",
     "text": [
      "The Zen of Python includes:\n",
      "\t1. Beutiful is better than ugly.\n",
      "\t2. Explicit is better than implicit.\n",
      "\t3. Simple is better than complex.\n",
      "\t4. Complex is petter than complicated.\n",
      "\t5. Readability counts.\n"
     ]
    }
   ],
   "source": [
    "print(\"The Zen of Python includes:\\n\\t1. Beutiful is better than ugly.\\n\\t2. Explicit is better than implicit.\\n\\t3. Simple is better than complex.\\n\\t4. Complex is petter than complicated.\\n\\t5. Readability counts.\")\n"
   ]
  },
  {
   "cell_type": "markdown",
   "id": "0eb51c52",
   "metadata": {},
   "source": [
    "\n",
    "*4. Combine different types of data (strings and numbers) in one print statement.*"
   ]
  },
  {
   "cell_type": "code",
   "execution_count": 22,
   "metadata": {},
   "outputs": [
    {
     "name": "stdout",
     "output_type": "stream",
     "text": [
      "I was born May 12th 2001\n",
      "\n",
      "\n",
      "Python was released in 1991\n"
     ]
    }
   ],
   "source": [
    "print(\"I was born May\", \"12th\", 2001)\n",
    "\n",
    "\n",
    "print(\"\\n\\nPython was released in\", 1991)\n"
   ]
  }
 ],
 "metadata": {
  "kernelspec": {
   "display_name": "Python 3",
   "language": "python",
   "name": "python3"
  },
  "language_info": {
   "codemirror_mode": {
    "name": "ipython",
    "version": 3
   },
   "file_extension": ".py",
   "mimetype": "text/x-python",
   "name": "python",
   "nbconvert_exporter": "python",
   "pygments_lexer": "ipython3",
   "version": "3.13.3"
  }
 },
 "nbformat": 4,
 "nbformat_minor": 5
}
