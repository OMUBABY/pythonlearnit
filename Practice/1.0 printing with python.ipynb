{
 "cells": [
  {
   "cell_type": "code",
   "execution_count": 1,
   "id": "f734a6b6",
   "metadata": {},
   "outputs": [
    {
     "name": "stdout",
     "output_type": "stream",
     "text": [
      "Hello, World!\n"
     ]
    }
   ],
   "source": [
    "print(\"Hello, World!\")"
   ]
  },
  {
   "cell_type": "code",
   "execution_count": 2,
   "id": "3fa0b372",
   "metadata": {},
   "outputs": [
    {
     "name": "stdout",
     "output_type": "stream",
     "text": [
      "I'm learning python!\n",
      "This is so much fun!\n",
      "I can't wait to learn more!\n"
     ]
    }
   ],
   "source": [
    "print(\"I'm learning python!\")\n",
    "print(\"This is so much fun!\")\n",
    "print(\"I can't wait to learn more!\")"
   ]
  },
  {
   "cell_type": "code",
   "execution_count": 4,
   "id": "809888ed",
   "metadata": {},
   "outputs": [
    {
     "name": "stdout",
     "output_type": "stream",
     "text": [
      "This is a string with single quotes.\n",
      "This is a string with double quotes.\n"
     ]
    }
   ],
   "source": [
    "print('This is a string with single quotes.')\n",
    "print(\"This is a string with double quotes.\")\n"
   ]
  },
  {
   "cell_type": "code",
   "execution_count": 5,
   "id": "b0c55c46",
   "metadata": {},
   "outputs": [
    {
     "name": "stdout",
     "output_type": "stream",
     "text": [
      "He said, 'Python is awesome!'\n",
      "She replied, \"I totally agree!\"\n"
     ]
    }
   ],
   "source": [
    "print(\"He said, 'Python is awesome!'\")\n",
    "print('She replied, \"I totally agree!\"')\n"
   ]
  },
  {
   "cell_type": "code",
   "execution_count": 6,
   "id": "8cee1ddb",
   "metadata": {},
   "outputs": [
    {
     "name": "stdout",
     "output_type": "stream",
     "text": [
      "First line\n",
      "Second line\n",
      "This\tis\ttabbed\n"
     ]
    }
   ],
   "source": [
    "print(\"First line\\nSecond line\")\n",
    "print(\"This\\tis\\ttabbed\")"
   ]
  },
  {
   "cell_type": "code",
   "execution_count": 7,
   "id": "08716860",
   "metadata": {},
   "outputs": [
    {
     "name": "stdout",
     "output_type": "stream",
     "text": [
      "My name is Sodienye and I am 24 years old.\n"
     ]
    }
   ],
   "source": [
    "print(\"My name is\", \"Sodienye\", \"and I am\", 24, \"years old.\")"
   ]
  }
 ],
 "metadata": {
  "kernelspec": {
   "display_name": "Python 3",
   "language": "python",
   "name": "python3"
  },
  "language_info": {
   "codemirror_mode": {
    "name": "ipython",
    "version": 3
   },
   "file_extension": ".py",
   "mimetype": "text/x-python",
   "name": "python",
   "nbconvert_exporter": "python",
   "pygments_lexer": "ipython3",
   "version": "3.13.3"
  }
 },
 "nbformat": 4,
 "nbformat_minor": 5
}
