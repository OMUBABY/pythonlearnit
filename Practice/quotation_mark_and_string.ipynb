{
 "cells": [
  {
   "cell_type": "markdown",
   "id": "e2a068d7",
   "metadata": {},
   "source": [
    "SINGLE QUOTE SURROUNDED BY DOUBLE\n"
   ]
  },
  {
   "cell_type": "code",
   "execution_count": 1,
   "id": "39786c82",
   "metadata": {},
   "outputs": [
    {
     "name": "stdout",
     "output_type": "stream",
     "text": [
      "It's time to save your code!\n"
     ]
    }
   ],
   "source": [
    "print(\"It's time to save your code!\")"
   ]
  },
  {
   "cell_type": "markdown",
   "id": "33a43fca",
   "metadata": {},
   "source": [
    "DOUBLE QUOTE SURROUNDED BY SINGLE "
   ]
  },
  {
   "cell_type": "code",
   "execution_count": 3,
   "id": "68cdf1aa",
   "metadata": {},
   "outputs": [
    {
     "name": "stdout",
     "output_type": "stream",
     "text": [
      "I said to the class \"sometimes you nee to shut down and restart a notebook when cells refuse to run\"\n"
     ]
    }
   ],
   "source": [
    "print('I said to the class \"sometimes you nee to shut down and restart a notebook when cells refuse to run\"')"
   ]
  },
  {
   "cell_type": "markdown",
   "id": "e9b1b5e0",
   "metadata": {},
   "source": [
    "Task\n",
    "print() strings that display double and single quotation marks"
   ]
  },
  {
   "cell_type": "code",
   "execution_count": 1,
   "id": "1f3540ff",
   "metadata": {},
   "outputs": [
    {
     "name": "stdout",
     "output_type": "stream",
     "text": [
      "I wouldn't say that if I were you\n",
      "\n",
      "He said, \"It's not a good idea to use a single quote inside a single-quoted string.\"\n"
     ]
    }
   ],
   "source": [
    "print(\"I wouldn't say that if I were you\")\n",
    "print()\n",
    "print('He said, \"It\\'s not a good idea to use a single quote inside a single-quoted string.\"')\n"
   ]
  },
  {
   "cell_type": "markdown",
   "id": "e419ffa7",
   "metadata": {},
   "source": [
    "# Boolean string tests\n",
    "return boolean True or False methods\n",
    "* .isalpha()\n",
    "* .isalnum()\n",
    "* .istitle()\n",
    "* .isdigit()\n",
    "* .islower()\n",
    "* .isupper()\n",
    "* .startswith()"
   ]
  },
  {
   "cell_type": "code",
   "execution_count": 2,
   "id": "a85aa396",
   "metadata": {},
   "outputs": [
    {
     "data": {
      "text/plain": [
       "True"
      ]
     },
     "execution_count": 2,
     "metadata": {},
     "output_type": "execute_result"
    }
   ],
   "source": [
    "\"Hello\".isalpha() \n"
   ]
  },
  {
   "cell_type": "code",
   "execution_count": 5,
   "id": "59b4d01e",
   "metadata": {},
   "outputs": [
    {
     "data": {
      "text/plain": [
       "False"
      ]
     },
     "execution_count": 5,
     "metadata": {},
     "output_type": "execute_result"
    }
   ],
   "source": [
    "\"Python!\".isalpha()"
   ]
  },
  {
   "cell_type": "code",
   "execution_count": 8,
   "id": "3d0b9990",
   "metadata": {},
   "outputs": [
    {
     "data": {
      "text/plain": [
       "True"
      ]
     },
     "execution_count": 8,
     "metadata": {},
     "output_type": "execute_result"
    }
   ],
   "source": [
    "\"3rd\".isalnum()"
   ]
  },
  {
   "cell_type": "code",
   "execution_count": 10,
   "id": "6f298e42",
   "metadata": {},
   "outputs": [
    {
     "data": {
      "text/plain": [
       "True"
      ]
     },
     "execution_count": 10,
     "metadata": {},
     "output_type": "execute_result"
    }
   ],
   "source": [
    "\"A Cold Stormy Night\".istitle()"
   ]
  },
  {
   "cell_type": "code",
   "execution_count": 16,
   "id": "355b970c",
   "metadata": {},
   "outputs": [
    {
     "data": {
      "text/plain": [
       "True"
      ]
     },
     "execution_count": 16,
     "metadata": {},
     "output_type": "execute_result"
    }
   ],
   "source": [
    "\"1003\".isdigit()"
   ]
  },
  {
   "cell_type": "code",
   "execution_count": 15,
   "id": "3911b00a",
   "metadata": {},
   "outputs": [
    {
     "data": {
      "text/plain": [
       "True"
      ]
     },
     "execution_count": 15,
     "metadata": {},
     "output_type": "execute_result"
    }
   ],
   "source": [
    "cm_height = \"176\"\n",
    "cm_height.isdigit()"
   ]
  },
  {
   "cell_type": "code",
   "execution_count": 17,
   "id": "f4a3d787",
   "metadata": {},
   "outputs": [
    {
     "name": "stdout",
     "output_type": "stream",
     "text": [
      "cm_height: 175 is all digits = True\n"
     ]
    }
   ],
   "source": [
    "cm_height = \"175\"\n",
    "print(\"cm_height:\", cm_height, \"is all digits =\", cm_height.isdigit())"
   ]
  },
  {
   "cell_type": "code",
   "execution_count": 19,
   "id": "04df945d",
   "metadata": {},
   "outputs": [
    {
     "name": "stdout",
     "output_type": "stream",
     "text": [
      "False\n"
     ]
    }
   ],
   "source": [
    "print(\"SAVE\".islower())"
   ]
  },
  {
   "cell_type": "code",
   "execution_count": 20,
   "id": "539969ef",
   "metadata": {},
   "outputs": [
    {
     "name": "stdout",
     "output_type": "stream",
     "text": [
      "True\n"
     ]
    }
   ],
   "source": [
    "print(\"SAVE\".isupper())"
   ]
  },
  {
   "cell_type": "code",
   "execution_count": 25,
   "id": "d40423be",
   "metadata": {},
   "outputs": [
    {
     "data": {
      "text/plain": [
       "False"
      ]
     },
     "execution_count": 25,
     "metadata": {},
     "output_type": "execute_result"
    }
   ],
   "source": [
    "\"boolean\".startswith(\"B\")"
   ]
  },
  {
   "cell_type": "markdown",
   "id": "84ea345b",
   "metadata": {},
   "source": [
    "# Test strings with .isalpha()"
   ]
  },
  {
   "cell_type": "code",
   "execution_count": null,
   "id": "d5307aac",
   "metadata": {},
   "outputs": [],
   "source": [
    "\"alphabetical\".isalpha()"
   ]
  },
  {
   "cell_type": "code",
   "execution_count": null,
   "id": "4bf428f2",
   "metadata": {},
   "outputs": [],
   "source": [
    "\"Are spaces and punctuation Alphabetical?\".isalpha()"
   ]
  },
  {
   "cell_type": "code",
   "execution_count": 27,
   "id": "a4444225",
   "metadata": {},
   "outputs": [
    {
     "name": "stdout",
     "output_type": "stream",
     "text": [
      "Alphabetical is all alphabetical characters: True\n"
     ]
    }
   ],
   "source": [
    "alpha_test = \"Alphabetical\"\n",
    "alpha_test.isalpha()\n",
    "print(alpha_test, \"is all alphabetical characters:\", alpha_test.isalpha())"
   ]
  }
 ],
 "metadata": {
  "kernelspec": {
   "display_name": "Python 3",
   "language": "python",
   "name": "python3"
  },
  "language_info": {
   "codemirror_mode": {
    "name": "ipython",
    "version": 3
   },
   "file_extension": ".py",
   "mimetype": "text/x-python",
   "name": "python",
   "nbconvert_exporter": "python",
   "pygments_lexer": "ipython3",
   "version": "3.13.3"
  }
 },
 "nbformat": 4,
 "nbformat_minor": 5
}
