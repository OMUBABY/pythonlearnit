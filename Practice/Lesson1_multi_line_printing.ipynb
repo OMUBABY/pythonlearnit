{
 "cells": [
  {
   "cell_type": "markdown",
   "id": "e911390f",
   "metadata": {},
   "source": [
    "*Try printing a simple three-line text or poem using three separate print() statements.*\n",
    "\n",
    "\n"
   ]
  },
  {
   "cell_type": "code",
   "execution_count": 8,
   "id": "909cda17",
   "metadata": {},
   "outputs": [
    {
     "name": "stdout",
     "output_type": "stream",
     "text": [
      "I love Food!\n",
      "I love the Gym!\n",
      "I love Anime!\n"
     ]
    }
   ],
   "source": [
    "print(\"I love Food!\")\n",
    "print(\"I love the Gym!\")\n",
    "print(\"I love Anime!\")\n"
   ]
  },
  {
   "cell_type": "code",
   "execution_count": 9,
   "id": "88bc967c",
   "metadata": {},
   "outputs": [
    {
     "name": "stdout",
     "output_type": "stream",
     "text": [
      "Roses are red,\n",
      "Violets are blue,\n",
      "Python is awesome, and so are you!\n"
     ]
    }
   ],
   "source": [
    "print(\"Roses are red,\")\n",
    "print(\"Violets are blue,\")\n",
    "print(\"Python is awesome, and so are you!\")"
   ]
  },
  {
   "cell_type": "markdown",
   "id": "f644b488",
   "metadata": {},
   "source": [
    "*Try printing a simple three-line text or poem using one print() statement with \\n.*\n",
    "\n",
    "\n"
   ]
  },
  {
   "cell_type": "code",
   "execution_count": 10,
   "id": "4dd02b6c",
   "metadata": {},
   "outputs": [
    {
     "name": "stdout",
     "output_type": "stream",
     "text": [
      "I have 2 younger siblings namely:\n",
      "\tIdameibi\n",
      "\tNengi\n"
     ]
    }
   ],
   "source": [
    "print(\"I have 2 younger siblings namely:\\n\\tIdameibi\\n\\tNengi\")"
   ]
  },
  {
   "cell_type": "code",
   "execution_count": 11,
   "id": "1836907a",
   "metadata": {},
   "outputs": [
    {
     "name": "stdout",
     "output_type": "stream",
     "text": [
      "Roses are red,\n",
      "Violets are blue,\n",
      "Python is awesome, and so are you!\n"
     ]
    }
   ],
   "source": [
    "print(\"Roses are red,\\nViolets are blue,\\nPython is awesome, and so are you!\")\n"
   ]
  },
  {
   "cell_type": "markdown",
   "id": "75f6a0af",
   "metadata": {},
   "source": [
    "*Print it using triple quotes.*\n",
    "\n",
    "\n"
   ]
  },
  {
   "cell_type": "code",
   "execution_count": 12,
   "id": "76b6cb52",
   "metadata": {},
   "outputs": [
    {
     "name": "stdout",
     "output_type": "stream",
     "text": [
      "I love to watch movies.\n",
      "My favorite anime is Black Clover.\n",
      "Blue Lock manga is Aweosome!!!.\n"
     ]
    }
   ],
   "source": [
    "print(\"\"\"I love to watch movies.\n",
    "My favorite anime is Black Clover.\n",
    "Blue Lock manga is Aweosome!!!.\"\"\")"
   ]
  },
  {
   "cell_type": "code",
   "execution_count": 13,
   "id": "234f0701",
   "metadata": {},
   "outputs": [
    {
     "name": "stdout",
     "output_type": "stream",
     "text": [
      "Roses are red,\n",
      "Violets are blue,\n",
      "Python is awesome, and so are you!\n"
     ]
    }
   ],
   "source": [
    "print(\"\"\"Roses are red,\n",
    "Violets are blue,\n",
    "Python is awesome, and so are you!\"\"\")"
   ]
  },
  {
   "cell_type": "markdown",
   "id": "0974632f",
   "metadata": {},
   "source": [
    "*Add a blanc line between each sting/verse of your text/poem using any method you prefer*"
   ]
  },
  {
   "cell_type": "code",
   "execution_count": 14,
   "id": "6b780b1f",
   "metadata": {},
   "outputs": [
    {
     "name": "stdout",
     "output_type": "stream",
     "text": [
      "Luffy is the G.O.A.T.\n",
      "\n",
      "Zoro Solo's!!!.\n",
      "\n",
      "One Piece anime is Underrated!.\n"
     ]
    }
   ],
   "source": [
    "print(\"Luffy is the G.O.A.T.\\n\\nZoro Solo's!!!.\\n\\nOne Piece anime is Underrated!.\")"
   ]
  },
  {
   "cell_type": "code",
   "execution_count": 15,
   "id": "e454ab66",
   "metadata": {},
   "outputs": [
    {
     "name": "stdout",
     "output_type": "stream",
     "text": [
      "Roses are red,\n",
      "\n",
      "Violets are blue,\n",
      "\n",
      "Python is awesome, and so are you!\n"
     ]
    }
   ],
   "source": [
    "print(\"\"\"Roses are red,\n",
    "      \n",
    "Violets are blue,\n",
    "      \n",
    "Python is awesome, and so are you!\"\"\")"
   ]
  }
 ],
 "metadata": {
  "kernelspec": {
   "display_name": "Python 3",
   "language": "python",
   "name": "python3"
  },
  "language_info": {
   "codemirror_mode": {
    "name": "ipython",
    "version": 3
   },
   "file_extension": ".py",
   "mimetype": "text/x-python",
   "name": "python",
   "nbconvert_exporter": "python",
   "pygments_lexer": "ipython3",
   "version": "3.13.3"
  }
 },
 "nbformat": 4,
 "nbformat_minor": 5
}
