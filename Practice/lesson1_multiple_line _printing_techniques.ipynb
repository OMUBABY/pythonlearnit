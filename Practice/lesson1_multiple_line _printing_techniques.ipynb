{
 "cells": [
  {
   "cell_type": "markdown",
   "id": "79723877",
   "metadata": {},
   "source": [
    "*Multi-line printing techniques*\n"
   ]
  },
  {
   "cell_type": "code",
   "execution_count": 1,
   "id": "651d46b9",
   "metadata": {},
   "outputs": [
    {
     "name": "stdout",
     "output_type": "stream",
     "text": [
      "Hello\n",
      "Welcome to our multi-line\n",
      "printing adventure!\n"
     ]
    }
   ],
   "source": [
    "print(\"Hello\")\n",
    "print(\"Welcome to our multi-line\")\n",
    "print(\"printing adventure!\")"
   ]
  },
  {
   "cell_type": "code",
   "execution_count": 2,
   "id": "4b8ed38a",
   "metadata": {},
   "outputs": [
    {
     "name": "stdout",
     "output_type": "stream",
     "text": [
      "Line 1\n",
      "Line 2\n",
      "Line 3\n"
     ]
    }
   ],
   "source": [
    "print(\"Line 1\\nLine 2\\nLine 3\")"
   ]
  },
  {
   "cell_type": "code",
   "execution_count": 3,
   "id": "43d2fcb9",
   "metadata": {},
   "outputs": [
    {
     "name": "stdout",
     "output_type": "stream",
     "text": [
      "This is Line 1.\n",
      "This is Line 2.\n",
      "This is Line 3.\n"
     ]
    }
   ],
   "source": [
    "print(\"\"\"This is Line 1.\n",
    "This is Line 2.\n",
    "This is Line 3.\"\"\")\n"
   ]
  }
 ],
 "metadata": {
  "kernelspec": {
   "display_name": "Python 3",
   "language": "python",
   "name": "python3"
  },
  "language_info": {
   "codemirror_mode": {
    "name": "ipython",
    "version": 3
   },
   "file_extension": ".py",
   "mimetype": "text/x-python",
   "name": "python",
   "nbconvert_exporter": "python",
   "pygments_lexer": "ipython3",
   "version": "3.13.3"
  }
 },
 "nbformat": 4,
 "nbformat_minor": 5
}
